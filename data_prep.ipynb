{
 "cells": [
  {
   "cell_type": "code",
   "execution_count": 1,
   "metadata": {},
   "outputs": [],
   "source": [
    "import pandas as pd\n",
    "data = pd.read_csv('./Databases/Australia Market _up to 2022_consumption.csv')\n",
    "data = data.iloc[:,[2,3,4,8,11]]\n",
    "data =data.loc[(data.Attribute_Description != \"Beginning Stocks\") &  (data.Attribute_Description != \"Ending Stocks\") &  (data.Attribute_Description != \"Total Distribution\") &  (data.Attribute_Description != \"Total Supply\"),: ]\n",
    "data[\"Measure_in_tons\"] = data.Value * 60\n",
    "data =data.drop(columns=[\"Value\"])\n",
    "data = data.pivot_table('Measure_in_tons', ['Country_Code', 'Country_Name','Market_Year'], 'Attribute_Description')\n",
    "data = data.reset_index()\n",
    "data.rename(columns={\"Domestic Consumption\":\"Total_consumption\",\n",
    "                     \"Arabica Production\":\"Arabica_Production\",\n",
    "                     \"Bean Exports\":\"Bean_Exports\",\n",
    "                     \"Bean Imports\":\"Bean_Imports\",\n",
    "                     \"Other Production\":\"Other_Production\",\n",
    "                     \"Roast & Ground Exports\":\"Roast_Ground_Exports\",\n",
    "                     \"Roast & Ground Imports\":\"Roast_Ground_Imports\",\n",
    "                     \"Robusta Production\":\"Robusta_Production\",\n",
    "                     \"Rst,Ground Dom. Consum\":\"Roast_Ground_consumption\",\n",
    "                     \"Soluble Dom. Cons.\":\"Soluble_consumption\",\n",
    "                     \"Soluble Exports\":\"Soluble_Exports\",\n",
    "                     \"Soluble Imports\":\"Soluble_Imports\",\n",
    "                     \"Exports\":\"Total_Exports\",\n",
    "                     \"Imports\":\"Total_Imports\",\n",
    "                     \"Production\":\"Total_Production\"}, inplace=True)\n",
    "data = data.loc[:,['Country_Code','Country_Name','Market_Year','Arabica_Production','Robusta_Production','Other_Production','Total_Production',\n",
    "                   'Bean_Exports','Roast_Ground_Exports','Soluble_Exports','Total_Exports',\n",
    "                   'Bean_Imports','Roast_Ground_Imports','Soluble_Imports','Total_Imports',\n",
    "                   'Roast_Ground_consumption','Soluble_consumption','Total_consumption']]\n",
    "data = data.loc[data.Market_Year>=2017,:]\n",
    "\n",
    "data.to_csv(\"worldwide_coffee_market.csv\",index=False)\n",
    "\n",
    "\n"
   ]
  },
  {
   "cell_type": "code",
   "execution_count": 2,
   "metadata": {},
   "outputs": [],
   "source": [
    "# Load CSV file to SQLITE database\n",
    "from pathlib import Path\n",
    "# create database file empty\n",
    "Path('db.sqlite').touch()\n",
    "import sqlite3\n",
    "# connect to database\n",
    "conn = sqlite3.connect('db.sqlite')\n",
    "c = conn.cursor()\n",
    "# add empty columns\n",
    "c.execute('''CREATE TABLE coffee (Country_Code text, Country_Name text, Market_Year int, Arabica_Production int, Robusta_Production int, Other_Production int,Total_Production int,Bean_Exports int,Roast_Ground_Exports int,Soluble_Exports int,Total_Exports int,Bean_Imports int,Roast_Ground_Imports int,Soluble_Imports int,Total_Imports int,Roast_Ground_consumption int,Soluble_consumption int,Total_consumption int)''')\n",
    "# read csv file\n",
    "data = pd.read_csv('worldwide_coffee_market.csv')\n",
    "# write all data to database\n",
    "data.to_sql('coffee', conn, if_exists='append', index = False)\n"
   ]
  }
 ],
 "metadata": {
  "kernelspec": {
   "display_name": "Python 3.7.13 ('bootcamp')",
   "language": "python",
   "name": "python3"
  },
  "language_info": {
   "codemirror_mode": {
    "name": "ipython",
    "version": 3
   },
   "file_extension": ".py",
   "mimetype": "text/x-python",
   "name": "python",
   "nbconvert_exporter": "python",
   "pygments_lexer": "ipython3",
   "version": "3.7.13"
  },
  "orig_nbformat": 4,
  "vscode": {
   "interpreter": {
    "hash": "a7c284f6c3454d9296f827a682b0575908dd97079acfefde70d6f996863eb3eb"
   }
  }
 },
 "nbformat": 4,
 "nbformat_minor": 2
}
